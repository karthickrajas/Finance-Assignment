{
 "cells": [
  {
   "cell_type": "markdown",
   "metadata": {},
   "source": [
    "### Necessary Libraries"
   ]
  },
  {
   "cell_type": "code",
   "execution_count": 139,
   "metadata": {},
   "outputs": [],
   "source": [
    "from math import sqrt,exp\n",
    "import numpy as np\n",
    "import matplotlib.pyplot as plt\n",
    "import random\n",
    "import math"
   ]
  },
  {
   "cell_type": "markdown",
   "metadata": {},
   "source": [
    "### IJK Scheme"
   ]
  },
  {
   "cell_type": "code",
   "execution_count": 140,
   "metadata": {},
   "outputs": [],
   "source": [
    "def IJKScheme(M,N):\n",
    "    r = 0\n",
    "    K = 100\n",
    "    T =1 \n",
    "    dt = T/N\n",
    "    row =0.36\n",
    "    kappa = 2.58\n",
    "    eta = 0.043\n",
    "    v0 = 0.114\n",
    "    s0 = 125\n",
    "    sigma = 1\n",
    "    \n",
    "    c=[]\n",
    "\n",
    "    for j in range(1,M):\n",
    "        v =[]\n",
    "        v.append(v0)\n",
    "        s =[]\n",
    "        s.append(s0)\n",
    "        for i in range(1,N):\n",
    "            x=random.gauss(0,1)\n",
    "            y=random.gauss(0,1)\n",
    "            randomTerm = row*x+sqrt(1-row**2)*y\n",
    "            vtemp = max(v[i-1],0)\n",
    "            firstTerm = kappa*eta*dt\n",
    "            secondTerm = sigma*sqrt(vtemp*dt)*randomTerm\n",
    "            thirdTerm = 0.25*sigma*sigma*dt*(randomTerm**2 -1)\n",
    "            v.append((v[i-1]+firstTerm + secondTerm + thirdTerm)/(1+kappa*dt))\n",
    "            sFirstTerm = (r - 0.25*(vtemp+max(v[i],0)))*dt\n",
    "            sSecondTerm = row*sqrt(vtemp*dt)*randomTerm\n",
    "            sThirdTerm = 0.5*(sqrt(max(v[i],0)) + sqrt(vtemp))*(x - row*randomTerm)*sqrt(dt)\n",
    "            sFourthTerm = sigma*row*0.25*dt*(randomTerm**2 - 1)\n",
    "            s.append(s[i-1] + sFirstTerm + sSecondTerm + sThirdTerm + sFourthTerm)\n",
    "        \n",
    "        c.append(math.exp(-r*T)*max(s[N-1]-K,0))\n",
    "    \n",
    "    price = (np.mean(c))\n",
    "    error = (np.std(c)/math.sqrt(M))\n",
    "    return price,error\n"
   ]
  },
  {
   "cell_type": "code",
   "execution_count": 141,
   "metadata": {},
   "outputs": [
    {
     "data": {
      "text/plain": [
       "(24.962055157028306, 0.0064777972046876674)"
      ]
     },
     "execution_count": 141,
     "metadata": {},
     "output_type": "execute_result"
    }
   ],
   "source": [
    "IJKScheme(1500,260)"
   ]
  },
  {
   "cell_type": "markdown",
   "metadata": {},
   "source": [
    "### Milstein Scheme"
   ]
  },
  {
   "cell_type": "code",
   "execution_count": 142,
   "metadata": {},
   "outputs": [],
   "source": [
    "def MilsteinScheme(M,N):\n",
    "    r = 0\n",
    "    K = 100\n",
    "    T =1 \n",
    "    dt = T/N\n",
    "    row =0.36\n",
    "    kappa = 2.58\n",
    "    eta = 0.043\n",
    "    v0 = 0.114\n",
    "    s0 = 125\n",
    "    sigma = 1\n",
    "\n",
    "    c=[]\n",
    "\n",
    "    for j in range(1,M):\n",
    "        v=[]\n",
    "        v.append(v0)\n",
    "        s=[]\n",
    "        s.append(s0)\n",
    "\n",
    "        for i in range(1,N):\n",
    "            x=random.gauss(0,1)\n",
    "            y=random.gauss(0,1)\n",
    "            randomTerm = row*x + math.sqrt(1-row**2)*y\n",
    "            vtemp = max(0,v[i-1])\n",
    "            firstTerm = kappa*(eta - vtemp*0.5)*dt\n",
    "            thirdTerm = 0.25*(sigma**2)*dt*(randomTerm**2 - 1)\n",
    "            secondTerm = sigma*((dt*vtemp)**0.5)*randomTerm\n",
    "            v.append(v[i-1]+ firstTerm + secondTerm + thirdTerm)\n",
    "            s.append(s[i-1] + math.sqrt(vtemp*dt)*x + (r-vtemp*0.5)*dt)\n",
    "        \n",
    "        c.append(math.exp(-r*T)*max(s[N-1]-K,0))\n",
    "    \n",
    "    price = np.mean(c)       \n",
    "    error = np.std(c)/math.sqrt(M)\n",
    "    return price,error"
   ]
  },
  {
   "cell_type": "code",
   "execution_count": 143,
   "metadata": {},
   "outputs": [
    {
     "data": {
      "text/plain": [
       "(24.951681034919247, 0.0077042513651442218)"
      ]
     },
     "execution_count": 143,
     "metadata": {},
     "output_type": "execute_result"
    }
   ],
   "source": [
    "MilsteinScheme(1500,260)"
   ]
  },
  {
   "cell_type": "markdown",
   "metadata": {},
   "source": [
    "### Euler Scheme"
   ]
  },
  {
   "cell_type": "code",
   "execution_count": 144,
   "metadata": {},
   "outputs": [],
   "source": [
    "def EulerScheme(M,N):\n",
    "    r = 0\n",
    "    K = 100\n",
    "    T =1 \n",
    "    dt = T/N\n",
    "    row =0.36\n",
    "    kappa = 2.58\n",
    "    eta = 0.043\n",
    "    v0 = 0.114\n",
    "    s0 = 125\n",
    "    sigma = 1\n",
    "    \n",
    "    c=[]\n",
    "\n",
    "    for j in range(1,M):\n",
    "        v =[]\n",
    "        v.append(v0)\n",
    "        s =[]\n",
    "        s.append(s0)\n",
    "        for i in range(1,N):\n",
    "            x=random.gauss(0,1)\n",
    "            y=random.gauss(0,1)\n",
    "            firstTerm = kappa*(eta - max(0,v[i-1]))*(dt)\n",
    "            secondTerm = sigma*(max(0,v[i-1]) *dt)**0.5\n",
    "            randomTerm = row*x+math.sqrt(1-row**2)*y\n",
    "            v.append(v[i-1] + firstTerm + (secondTerm * randomTerm))\n",
    "            s.append(s[i-1] + math.sqrt(max(v[i-1],0)*dt)*x + (r - max(v[i-1],0)*0.5)*dt)\n",
    "        \n",
    "        c.append(math.exp(-r*T)*max(s[N-1]-K,0))\n",
    "        \n",
    "        \n",
    "    price = np.mean(c)\n",
    "    error = np.std(c)/math.sqrt(M)\n",
    "    return price,error"
   ]
  },
  {
   "cell_type": "code",
   "execution_count": 145,
   "metadata": {},
   "outputs": [
    {
     "data": {
      "text/plain": [
       "0.0066697556997295376"
      ]
     },
     "execution_count": 145,
     "metadata": {},
     "output_type": "execute_result"
    }
   ],
   "source": [
    "EulerScheme(1500,260)[1]"
   ]
  },
  {
   "cell_type": "markdown",
   "metadata": {},
   "source": [
    "### QE Simulation"
   ]
  },
  {
   "cell_type": "code",
   "execution_count": 146,
   "metadata": {},
   "outputs": [],
   "source": [
    "def QEScheme(M,N):\n",
    "    r = 0\n",
    "    K = 100\n",
    "    T =1 \n",
    "    dt = T/N\n",
    "    row =0.36\n",
    "    kappa = 2.58\n",
    "    eta = 0.043\n",
    "    v0 = 0.114\n",
    "    s0 = 125\n",
    "    sigma = 1\n",
    "    psic = 1.5\n",
    "    z1 = 0.5\n",
    "    z2 = 0.5\n",
    "    \n",
    "    c=[]\n",
    "\n",
    "    for j in range(1,M):\n",
    "        v =[]\n",
    "        v.append(v0)\n",
    "        s =[]\n",
    "        s.append(s0)\n",
    "        for i in range(1,N):\n",
    "            x=random.gauss(0,1)\n",
    "            y=random.uniform(0,1)\n",
    "            z=random.gauss(0,1)\n",
    "            expo = math.exp(-kappa*dt)\n",
    "            randomTerm = row*x+sqrt(1-row**2)*y\n",
    "            m = eta + (v[i-1] - eta)*expo\n",
    "            ssq = (v[i-1]*sigma*sigma*expo*(1-expo)/kappa) + (eta*sigma*sigma*0.5/kappa*((1-expo)**2))\n",
    "            psi = ssq/(m**2)\n",
    "            if psi <= psic:\n",
    "                bsq = max(2/psi -1 +2*math.sqrt(2/psi)*math.sqrt(2/psi - 1),0)\n",
    "                a = m/(1+bsq)\n",
    "                b = math.sqrt(bsq)\n",
    "                v.append(a*(b + x)**2)\n",
    "            else:\n",
    "                p = (psi -1)/(psi+1)\n",
    "                beta = max((1-p)/m,0)\n",
    "                if y<p:\n",
    "                    v.append(0)\n",
    "                else:\n",
    "                    v.append(math.log10((1-p)/(1-y))/beta)\n",
    "                    \n",
    "            k0 = -row*kappa*eta*dt/sigma\n",
    "            k1 = z1*dt*(kappa*row/sigma - 0.5 ) - row/sigma\n",
    "            k2 = z2*dt*(kappa*row/sigma - 0.5 ) + row/sigma\n",
    "            k3 = z1*dt*(1-row**2)\n",
    "            k4 = z2*dt*(1-row**2)\n",
    "            s.append(s[i-1] + r*dt + k0 + k1*v[i-1]+ k2*v[i] + math.sqrt(k3*v[i-1]+k4*v[i])*z )\n",
    "        \n",
    "        c.append(math.exp(-r*T)*max(s[N-1]-K,0))\n",
    "    \n",
    "    price = (np.mean(c))\n",
    "    error = (np.std(c)/math.sqrt(M))\n",
    "    return price,error"
   ]
  },
  {
   "cell_type": "code",
   "execution_count": 147,
   "metadata": {},
   "outputs": [
    {
     "data": {
      "text/plain": [
       "(24.944862255248328, 0.0062066821704080269)"
      ]
     },
     "execution_count": 147,
     "metadata": {},
     "output_type": "execute_result"
    }
   ],
   "source": [
    "QEScheme(1500,260)"
   ]
  },
  {
   "cell_type": "markdown",
   "metadata": {},
   "source": [
    "### Error Rate"
   ]
  },
  {
   "cell_type": "code",
   "execution_count": 26,
   "metadata": {
    "scrolled": true
   },
   "outputs": [],
   "source": [
    "import random\n",
    "N = 260 # discretisation density\n",
    "errorListIJK =[]\n",
    "errorListMS = []\n",
    "errorListES = []\n",
    "errorListQE = []\n",
    "index = []\n",
    "\n",
    "for i in range(100,3001,100):\n",
    "    index.append(i)\n",
    "    errorListIJK.append(IJKScheme(i,N)[1])\n",
    "    errorListMS.append(MilsteinScheme(i,N)[1])\n",
    "    errorListES.append(EulerScheme(i,N)[1])\n",
    "    errorListQE.append(QEScheme(i,N)[1])\n",
    "    \n",
    "    "
   ]
  },
  {
   "cell_type": "code",
   "execution_count": 29,
   "metadata": {
    "scrolled": false
   },
   "outputs": [
    {
     "data": {
      "image/png": "[encoded data removed]",
      "text/plain": [
       "<matplotlib.figure.Figure at 0x22cb1acc588>"
      ]
     },
     "metadata": {},
     "output_type": "display_data"
    }
   ],
   "source": [
    "import matplotlib as mpl\n",
    "mpl.rcParams['figure.figsize'] = (15,8)\n",
    "\n",
    "xaxis = range(100,3001,100)\n",
    "plt.plot(xaxis,errorListIJK,label=\"IJK\",color = \"red\")\n",
    "plt.plot(xaxis,errorListMS,label=\"MS\", color = \"green\")\n",
    "plt.plot(xaxis,errorListES,label=\"Euler\",color = \"blue\")\n",
    "plt.plot(xaxis,errorListQE,label=\"QE\",color = \"orange\")\n",
    "plt.legend()\n",
    "plt.show()\n"
   ]
  },
  {
   "cell_type": "code",
   "execution_count": 30,
   "metadata": {},
   "outputs": [
    {
     "name": "stdout",
     "output_type": "stream",
     "text": [
      "0.00415115338219\n"
     ]
    },
    {
     "data": {
      "text/plain": [
       "0.0053106284979023812"
      ]
     },
     "execution_count": 30,
     "metadata": {},
     "output_type": "execute_result"
    }
   ],
   "source": [
    "print(min(errorListQE))\n",
    "errorListIJK[24]"
   ]
  },
  {
   "cell_type": "code",
   "execution_count": 160,
   "metadata": {},
   "outputs": [],
   "source": [
    "index =[]\n",
    "errorListIJKm =[]\n",
    "errorListMSm = []\n",
    "errorListESm = []\n",
    "errorListQEm = []\n",
    "M  = 1000\n",
    "\n",
    "for i in range(100,3001,100):\n",
    "    index.append(i)\n",
    "    errorListIJKm.append(IJKScheme(M,i)[1])\n",
    "    errorListMSm.append(MilsteinScheme(M,i)[1])\n",
    "    errorListESm.append(EulerScheme(M,i)[1])\n",
    "    errorListQEm.append(QEScheme(M,i)[1])"
   ]
  },
  {
   "cell_type": "code",
   "execution_count": 161,
   "metadata": {},
   "outputs": [
    {
     "data": {
      "image/png": "[encoded data removed]",
      "text/plain": [
       "<matplotlib.figure.Figure at 0x22cb2f00cc0>"
      ]
     },
     "metadata": {},
     "output_type": "display_data"
    }
   ],
   "source": [
    "import matplotlib as mpl\n",
    "mpl.rcParams['figure.figsize'] = (15,8)\n",
    "\n",
    "xaxis = range(100,3001,100)\n",
    "plt.plot(xaxis,errorListIJKm,label=\"IJK\",color = \"red\")\n",
    "plt.plot(xaxis,errorListMSm,label=\"MS\", color = \"green\")\n",
    "plt.plot(xaxis,errorListESm,label=\"Euler\",color = \"blue\")\n",
    "plt.plot(xaxis,errorListQEm,label=\"QE\",color = \"orange\")\n",
    "plt.legend()\n",
    "plt.show()"
   ]
  },
  {
   "cell_type": "markdown",
   "metadata": {},
   "source": [
    "Choosing M = 260 #number of working days in a year #observing stock price end at every day\n",
    "\n",
    "choosing N = 2500 #number of the simulation path taken in monte carlo"
   ]
  },
  {
   "cell_type": "code",
   "execution_count": 31,
   "metadata": {},
   "outputs": [],
   "source": [
    "def RMSE(price, priceAct, n):\n",
    "    pValue = scipy.stats.mstats.normaltest(price)[1]\n",
    "    low,high = np.mean(price) + 2.58*(np.std(price)/sqrt(n)),np.mean(price) - 2.58*(np.std(price)/sqrt(n))\n",
    "    interval = 2*2.58*(np.std(price)/sqrt(n))\n",
    "    diffVar = []\n",
    "    diff = []\n",
    "    for i in range(0,30):\n",
    "        diff.append(price[i]-priceAct)\n",
    "        diffVar.append((price[i]-np.mean(price))**2)\n",
    "    \n",
    "    var = np.mean(diffVar)\n",
    "    bias = np.mean(diff)\n",
    "    rmse  = sqrt(bias**2 + var)\n",
    "    print(\"The P-value of the Normality test is \", pValue)\n",
    "    print(\"The width of the interval is\", interval)\n",
    "    print(\"The values range from \", low , \"to \", high)\n",
    "    print(\"The RMSE is \",rmse)\n",
    "    return pValue,interval,low,high,rmse"
   ]
  },
  {
   "cell_type": "code",
   "execution_count": 119,
   "metadata": {},
   "outputs": [],
   "source": [
    "priceES = []\n",
    "priceMS = []\n",
    "priceIJK = []\n",
    "priceQE =[]\n",
    "\n",
    "for i in range(1,31,1):\n",
    "    priceES.append(EulerScheme(260,2500)[0])\n",
    "    priceMS.append(MilsteinScheme(260,2500)[0])\n",
    "    priceIJK.append(IJKScheme(260,2500)[0])\n",
    "    priceQE.append(QEScheme(260,2500)[0])\n",
    "    "
   ]
  },
  {
   "cell_type": "code",
   "execution_count": 121,
   "metadata": {},
   "outputs": [
    {
     "name": "stdout",
     "output_type": "stream",
     "text": [
      "The P-value of the Normality test is  0.105621378617\n",
      "The width of the interval is 0.0142335384636\n",
      "The values range from  24.97124907 to  24.9570155315\n",
      "The RMSE is  0.7578783118291165\n"
     ]
    },
    {
     "data": {
      "text/plain": [
       "(0.10562137861710937,\n",
       " 0.014233538463640252,\n",
       " 24.971249069997587,\n",
       " 24.957015531533944,\n",
       " 0.7578783118291165)"
      ]
     },
     "execution_count": 121,
     "metadata": {},
     "output_type": "execute_result"
    }
   ],
   "source": [
    "RMSE(priceES,25.72186,30)"
   ]
  },
  {
   "cell_type": "code",
   "execution_count": 122,
   "metadata": {},
   "outputs": [
    {
     "name": "stdout",
     "output_type": "stream",
     "text": [
      "The P-value of the Normality test is  0.996244530008\n",
      "The width of the interval is 0.0170353271788\n",
      "The values range from  24.963331596 to  24.9462962688\n",
      "The RMSE is  0.7672591811506635\n"
     ]
    },
    {
     "data": {
      "text/plain": [
       "(0.99624453000788005,\n",
       " 0.017035327178757831,\n",
       " 24.963331595976545,\n",
       " 24.946296268797784,\n",
       " 0.7672591811506635)"
      ]
     },
     "execution_count": 122,
     "metadata": {},
     "output_type": "execute_result"
    }
   ],
   "source": [
    "RMSE(priceMS,25.72186,30)"
   ]
  },
  {
   "cell_type": "code",
   "execution_count": 123,
   "metadata": {},
   "outputs": [
    {
     "name": "stdout",
     "output_type": "stream",
     "text": [
      "The P-value of the Normality test is  0.788516907164\n",
      "The width of the interval is 0.0122258120275\n",
      "The values range from  24.9696457103 to  24.9574198982\n",
      "The RMSE is  0.7584382304891887\n"
     ]
    },
    {
     "data": {
      "text/plain": [
       "(0.78851690716352074,\n",
       " 0.012225812027489603,\n",
       " 24.969645710259261,\n",
       " 24.957419898231773,\n",
       " 0.7584382304891887)"
      ]
     },
     "execution_count": 123,
     "metadata": {},
     "output_type": "execute_result"
    }
   ],
   "source": [
    "RMSE(priceIJK,25.72186,30)"
   ]
  },
  {
   "cell_type": "code",
   "execution_count": 124,
   "metadata": {},
   "outputs": [
    {
     "name": "stdout",
     "output_type": "stream",
     "text": [
      "The P-value of the Normality test is  0.404155451711\n",
      "The width of the interval is 0.0142294518403\n",
      "The values range from  24.9578617215 to  24.9436322697\n",
      "The RMSE is  0.771260918117173\n"
     ]
    },
    {
     "data": {
      "text/plain": [
       "(0.4041554517113094,\n",
       " 0.014229451840253413,\n",
       " 24.957861721542795,\n",
       " 24.943632269702544,\n",
       " 0.771260918117173)"
      ]
     },
     "execution_count": 124,
     "metadata": {},
     "output_type": "execute_result"
    }
   ],
   "source": [
    "RMSE(priceQE,25.72186,30)"
   ]
  },
  {
   "cell_type": "markdown",
   "metadata": {},
   "source": [
    "### Dont execute beyond this"
   ]
  },
  {
   "cell_type": "code",
   "execution_count": 34,
   "metadata": {},
   "outputs": [],
   "source": [
    "import random\n",
    "N = 260 # discretisation density\n",
    "errorListQE = []\n",
    "index = []\n",
    "\n",
    "for i in range(10000,100001,10000):\n",
    "    index.append(i)\n",
    "    errorListQE.append(QEScheme(i,N)[1])\n",
    "    "
   ]
  },
  {
   "cell_type": "code",
   "execution_count": 35,
   "metadata": {},
   "outputs": [
    {
     "data": {
      "image/png": "[encoded data removed]",
      "text/plain": [
       "<matplotlib.figure.Figure at 0x22cb1fe6ba8>"
      ]
     },
     "metadata": {},
     "output_type": "display_data"
    }
   ],
   "source": [
    "import matplotlib as mpl\n",
    "mpl.rcParams['figure.figsize'] = (15,8)\n",
    "\n",
    "xaxis = range(10000,100001,10000)\n",
    "plt.plot(xaxis,errorListQE,label=\"QE\",color = \"blue\")\n",
    "plt.legend()\n",
    "plt.show()"
   ]
  },
  {
   "cell_type": "code",
   "execution_count": 37,
   "metadata": {},
   "outputs": [
    {
     "data": {
      "text/plain": [
       "(24.956190080788783, 0.00074181702323148865)"
      ]
     },
     "execution_count": 37,
     "metadata": {},
     "output_type": "execute_result"
    }
   ],
   "source": [
    "QEScheme(100000,260)"
   ]
  },
  {
   "cell_type": "markdown",
   "metadata": {},
   "source": [
    "### Double No Touch Option"
   ]
  },
  {
   "cell_type": "code",
   "execution_count": 92,
   "metadata": {},
   "outputs": [],
   "source": [
    "def QEdnt(M,N,s0):\n",
    "    r = 0\n",
    "    K = 100\n",
    "    T =1 \n",
    "    dt = T/N\n",
    "    row =0.36\n",
    "    kappa = 2.58\n",
    "    eta = 0.043\n",
    "    v0 = 0.114\n",
    "    sigma = 1\n",
    "    psic = 1.5\n",
    "    z1 = 0.5\n",
    "    z2 = 0.5\n",
    "    L = 50\n",
    "    U = 150\n",
    "    \n",
    "    c=[]\n",
    "\n",
    "    for j in range(1,M):\n",
    "        v =[]\n",
    "        v.append(v0)\n",
    "        s =[]\n",
    "        s.append(s0)\n",
    "        for i in range(1,N):\n",
    "            x=random.gauss(0,1)\n",
    "            y=random.uniform(0,1)\n",
    "            z=random.gauss(0,1)\n",
    "            expo = math.exp(-kappa*dt)\n",
    "            randomTerm = row*x+sqrt(1-row**2)*y\n",
    "            m = eta + (v[i-1] - eta)*expo\n",
    "            ssq = (v[i-1]*sigma*sigma*expo*(1-expo)/kappa) + (eta*sigma*sigma*0.5/kappa*((1-expo)**2))\n",
    "            psi = ssq/(m**2)\n",
    "            if psi <= psic:\n",
    "                bsq = max(2/psi -1 +2*math.sqrt(2/psi)*math.sqrt(2/psi - 1),0)\n",
    "                a = m/(1+bsq)\n",
    "                b = math.sqrt(bsq)\n",
    "                v.append(a*(b + x)**2)\n",
    "            else:\n",
    "                p = (psi -1)/(psi+1)\n",
    "                beta = max((1-p)/m,0)\n",
    "                if y<p:\n",
    "                    v.append(0)\n",
    "                else:\n",
    "                    v.append(math.log10((1-p)/(1-y))/beta)\n",
    "                    \n",
    "            k0 = -row*kappa*eta*dt/sigma\n",
    "            k1 = z1*dt*(kappa*row/sigma - 0.5 ) - row/sigma\n",
    "            k2 = z2*dt*(kappa*row/sigma - 0.5 ) + row/sigma\n",
    "            k3 = z1*dt*(1-row**2)\n",
    "            k4 = z2*dt*(1-row**2)\n",
    "            s.append(s[i-1] + r*dt + k0 + k1*v[i-1]+ k2*v[i] + math.sqrt(k3*v[i-1]+k4*v[i])*z )\n",
    "            \n",
    "            if s[i] < L or s[i] > U:\n",
    "                payoff = 0\n",
    "                break\n",
    "            else:\n",
    "                payoff = 1\n",
    "                \n",
    "        if payoff == 1:\n",
    "            payoff = max(s[N-1]-K,0)\n",
    "            \n",
    "        c.append(math.exp(-r*T)*payoff)\n",
    "    \n",
    "    price = (np.mean(c))\n",
    "    error = (np.std(c)/math.sqrt(M))\n",
    "    return price,error"
   ]
  },
  {
   "cell_type": "code",
   "execution_count": 95,
   "metadata": {},
   "outputs": [
    {
     "data": {
      "text/plain": [
       "(24.953653142412801, 0.0074217859742267958)"
      ]
     },
     "execution_count": 95,
     "metadata": {},
     "output_type": "execute_result"
    }
   ],
   "source": [
    "QEdnt(1000,260,125)"
   ]
  },
  {
   "cell_type": "markdown",
   "metadata": {},
   "source": [
    "### Final Results"
   ]
  },
  {
   "cell_type": "code",
   "execution_count": 76,
   "metadata": {},
   "outputs": [],
   "source": [
    "def IJKSchemeS(M,N,s0):\n",
    "    r = 0\n",
    "    K = 100\n",
    "    T =1 \n",
    "    dt = T/N\n",
    "    row =0.36\n",
    "    kappa = 2.58\n",
    "    eta = 0.043\n",
    "    v0 = 0.114\n",
    "    sigma = 1\n",
    "    \n",
    "    c=[]\n",
    "\n",
    "    for j in range(1,M):\n",
    "        v =[]\n",
    "        v.append(v0)\n",
    "        s =[]\n",
    "        s.append(s0)\n",
    "        for i in range(1,N):\n",
    "            x=random.gauss(0,1)\n",
    "            y=random.gauss(0,1)\n",
    "            randomTerm = row*x+sqrt(1-row**2)*y\n",
    "            vtemp = max(v[i-1],0)\n",
    "            firstTerm = kappa*eta*dt\n",
    "            secondTerm = sigma*sqrt(vtemp*dt)*randomTerm\n",
    "            thirdTerm = 0.25*sigma*sigma*dt*(randomTerm**2 -1)\n",
    "            v.append((v[i-1]+firstTerm + secondTerm + thirdTerm)/(1+kappa*dt))\n",
    "            sFirstTerm = (r - 0.25*(vtemp+max(v[i],0)))*dt\n",
    "            sSecondTerm = row*sqrt(vtemp*dt)*randomTerm\n",
    "            sThirdTerm = 0.5*(sqrt(max(v[i],0)) + sqrt(vtemp))*(x - row*randomTerm)*sqrt(dt)\n",
    "            sFourthTerm = sigma*row*0.25*dt*(randomTerm**2 - 1)\n",
    "            s.append(s[i-1] + sFirstTerm + sSecondTerm + sThirdTerm + sFourthTerm)\n",
    "        \n",
    "        c.append(math.exp(-r*T)*max(s[N-1]-K,0))\n",
    "    \n",
    "    price = (np.mean(c))\n",
    "    error = (np.std(c)/math.sqrt(M))\n",
    "    return price,error\n"
   ]
  },
  {
   "cell_type": "code",
   "execution_count": 77,
   "metadata": {},
   "outputs": [],
   "source": [
    "def MilsteinSchemeS(M,N,s0):\n",
    "    r = 0\n",
    "    K = 100\n",
    "    T =1 \n",
    "    dt = T/N\n",
    "    row =0.36\n",
    "    kappa = 2.58\n",
    "    eta = 0.043\n",
    "    v0 = 0.114\n",
    "    sigma = 1\n",
    "\n",
    "    c=[]\n",
    "\n",
    "    for j in range(1,M):\n",
    "        v=[]\n",
    "        v.append(v0)\n",
    "        s=[]\n",
    "        s.append(s0)\n",
    "\n",
    "        for i in range(1,N):\n",
    "            x=random.gauss(0,1)\n",
    "            y=random.gauss(0,1)\n",
    "            randomTerm = row*x + math.sqrt(1-row**2)*y\n",
    "            vtemp = max(0,v[i-1])\n",
    "            firstTerm = kappa*(eta - vtemp*0.5)*dt\n",
    "            thirdTerm = 0.25*(sigma**2)*dt*(randomTerm**2 - 1)\n",
    "            secondTerm = sigma*((dt*vtemp)**0.5)*randomTerm\n",
    "            v.append(v[i-1]+ firstTerm + secondTerm + thirdTerm)\n",
    "            s.append(s[i-1] + math.sqrt(vtemp*dt)*x + (r-vtemp*0.5)*dt)\n",
    "        \n",
    "        c.append(math.exp(-r*T)*max(s[N-1]-K,0))\n",
    "    \n",
    "    price = np.mean(c)       \n",
    "    error = np.std(c)/math.sqrt(M)\n",
    "    return price,error"
   ]
  },
  {
   "cell_type": "code",
   "execution_count": 78,
   "metadata": {},
   "outputs": [],
   "source": [
    "def EulerSchemeS(M,N,s0):\n",
    "    r = 0\n",
    "    K = 100\n",
    "    T =1 \n",
    "    dt = T/N\n",
    "    row =0.36\n",
    "    kappa = 2.58\n",
    "    eta = 0.043\n",
    "    v0 = 0.114\n",
    "    sigma = 1\n",
    "    \n",
    "    c=[]\n",
    "\n",
    "    for j in range(1,M):\n",
    "        v =[]\n",
    "        v.append(v0)\n",
    "        s =[]\n",
    "        s.append(s0)\n",
    "        for i in range(1,N):\n",
    "            x=random.gauss(0,1)\n",
    "            y=random.gauss(0,1)\n",
    "            firstTerm = kappa*(eta - max(0,v[i-1]))*(dt)\n",
    "            secondTerm = sigma*(max(0,v[i-1]) *dt)**0.5\n",
    "            randomTerm = row*x+math.sqrt(1-row**2)*y\n",
    "            v.append(v[i-1] + firstTerm + (secondTerm * randomTerm))\n",
    "            s.append(s[i-1] + math.sqrt(max(v[i-1],0)*dt)*x + (r - max(v[i-1],0)*0.5)*dt)\n",
    "        \n",
    "        c.append(math.exp(-r*T)*max(s[N-1]-K,0))\n",
    "        \n",
    "        \n",
    "    price = np.mean(c)\n",
    "    error = np.std(c)/math.sqrt(M)\n",
    "    return price,error"
   ]
  },
  {
   "cell_type": "code",
   "execution_count": 79,
   "metadata": {},
   "outputs": [],
   "source": [
    "def QESchemeS(M,N,s0):\n",
    "    r = 0\n",
    "    K = 100\n",
    "    T =1 \n",
    "    dt = T/N\n",
    "    row =0.36\n",
    "    kappa = 2.58\n",
    "    eta = 0.043\n",
    "    v0 = 0.114\n",
    "    sigma = 1\n",
    "    psic = 1.5\n",
    "    z1 = 0.5\n",
    "    z2 = 0.5\n",
    "    \n",
    "    c=[]\n",
    "\n",
    "    for j in range(1,M):\n",
    "        v =[]\n",
    "        v.append(v0)\n",
    "        s =[]\n",
    "        s.append(s0)\n",
    "        for i in range(1,N):\n",
    "            x=random.gauss(0,1)\n",
    "            y=random.uniform(0,1)\n",
    "            z=random.gauss(0,1)\n",
    "            expo = math.exp(-kappa*dt)\n",
    "            randomTerm = row*x+sqrt(1-row**2)*y\n",
    "            m = eta + (v[i-1] - eta)*expo\n",
    "            ssq = (v[i-1]*sigma*sigma*expo*(1-expo)/kappa) + (eta*sigma*sigma*0.5/kappa*((1-expo)**2))\n",
    "            psi = ssq/(m**2)\n",
    "            if psi <= psic:\n",
    "                bsq = max(2/psi -1 +2*math.sqrt(2/psi)*math.sqrt(2/psi - 1),0)\n",
    "                a = m/(1+bsq)\n",
    "                b = math.sqrt(bsq)\n",
    "                v.append(a*(b + x)**2)\n",
    "            else:\n",
    "                p = (psi -1)/(psi+1)\n",
    "                beta = max((1-p)/m,0)\n",
    "                if y<p:\n",
    "                    v.append(0)\n",
    "                else:\n",
    "                    v.append(math.log10((1-p)/(1-y))/beta)\n",
    "                    \n",
    "            k0 = -row*kappa*eta*dt/sigma\n",
    "            k1 = z1*dt*(kappa*row/sigma - 0.5 ) - row/sigma\n",
    "            k2 = z2*dt*(kappa*row/sigma - 0.5 ) + row/sigma\n",
    "            k3 = z1*dt*(1-row**2)\n",
    "            k4 = z2*dt*(1-row**2)\n",
    "            s.append(s[i-1] + r*dt + k0 + k1*v[i-1]+ k2*v[i] + math.sqrt(k3*v[i-1]+k4*v[i])*z )\n",
    "        \n",
    "        c.append(math.exp(-r*T)*max(s[N-1]-K,0))\n",
    "    \n",
    "    price = (np.mean(c))\n",
    "    error = (np.std(c)/math.sqrt(M))\n",
    "    return price,error"
   ]
  },
  {
   "cell_type": "code",
   "execution_count": 86,
   "metadata": {},
   "outputs": [
    {
     "name": "stdout",
     "output_type": "stream",
     "text": [
      "(24.956807825789792, 0.0016595738724769376)\n",
      "(24.967032089167699, 0.0017711789354110598)\n",
      "(24.95040245011673, 0.0021441166078509954)\n",
      "(24.968663016849742, 0.0017778933776659643)\n"
     ]
    }
   ],
   "source": [
    "print(QESchemeS(20000,260,125))\n",
    "print(EulerSchemeS(20000,260,125))\n",
    "print(MilsteinSchemeS(20000,260,125))\n",
    "print(IJKSchemeS(20000,260,125))"
   ]
  },
  {
   "cell_type": "code",
   "execution_count": 125,
   "metadata": {},
   "outputs": [
    {
     "name": "stdout",
     "output_type": "stream",
     "text": [
      "(0.063764940950343019, 0.00099997889625222185)\n",
      "(0.075043813347719326, 0.0011059103617021655)\n",
      "(0.08407618914742683, 0.0013064719302600739)\n",
      "(0.075361221883061033, 0.0011056649793601615)\n"
     ]
    }
   ],
   "source": [
    "print(QESchemeS(20000,260,100))\n",
    "print(EulerSchemeS(20000,260,100))\n",
    "print(MilsteinSchemeS(20000,260,100))\n",
    "print(IJKSchemeS(20000,260,100))"
   ]
  },
  {
   "cell_type": "code",
   "execution_count": 126,
   "metadata": {},
   "outputs": [
    {
     "name": "stdout",
     "output_type": "stream",
     "text": [
      "(0.0, 0.0)\n",
      "(0.0, 0.0)\n",
      "(0.0, 0.0)\n",
      "(0.0, 0.0)\n"
     ]
    }
   ],
   "source": [
    "print(QESchemeS(20000,260,75))\n",
    "print(EulerSchemeS(20000,260,75))\n",
    "print(MilsteinSchemeS(20000,260,75))\n",
    "print(IJKSchemeS(20000,260,75))"
   ]
  },
  {
   "cell_type": "markdown",
   "metadata": {},
   "source": [
    "### Check for negative values"
   ]
  },
  {
   "cell_type": "code",
   "execution_count": 137,
   "metadata": {},
   "outputs": [],
   "source": [
    "def QESchemePut(M,N):\n",
    "    r = 0\n",
    "    K = 100\n",
    "    T =1 \n",
    "    dt = T/N\n",
    "    row =0.36\n",
    "    kappa = 2.58\n",
    "    eta = 0.043\n",
    "    v0 = 0.114\n",
    "    s0 = 100\n",
    "    sigma = 1\n",
    "    psic = 1.5\n",
    "    z1 = 0.5\n",
    "    z2 = 0.5\n",
    "    \n",
    "    c=[]\n",
    "\n",
    "    for j in range(1,M):\n",
    "        v =[]\n",
    "        v.append(v0)\n",
    "        s =[]\n",
    "        s.append(s0)\n",
    "        for i in range(1,N):\n",
    "            x=random.gauss(0,1)\n",
    "            y=random.uniform(0,1)\n",
    "            z=random.gauss(0,1)\n",
    "            expo = math.exp(-kappa*dt)\n",
    "            randomTerm = row*x+sqrt(1-row**2)*y\n",
    "            m = eta + (v[i-1] - eta)*expo\n",
    "            ssq = (v[i-1]*sigma*sigma*expo*(1-expo)/kappa) + (eta*sigma*sigma*0.5/kappa*((1-expo)**2))\n",
    "            psi = ssq/(m**2)\n",
    "            if psi <= psic:\n",
    "                bsq = max(2/psi -1 +2*math.sqrt(2/psi)*math.sqrt(2/psi - 1),0)\n",
    "                a = m/(1+bsq)\n",
    "                b = math.sqrt(bsq)\n",
    "                v.append(a*(b + x)**2)\n",
    "            else:\n",
    "                p = (psi -1)/(psi+1)\n",
    "                beta = max((1-p)/m,0)\n",
    "                if y<p:\n",
    "                    v.append(0)\n",
    "                else:\n",
    "                    v.append(math.log10((1-p)/(1-y))/beta)\n",
    "                    \n",
    "            k0 = -row*kappa*eta*dt/sigma\n",
    "            k1 = z1*dt*(kappa*row/sigma - 0.5 ) - row/sigma\n",
    "            k2 = z2*dt*(kappa*row/sigma - 0.5 ) + row/sigma\n",
    "            k3 = z1*dt*(1-row**2)\n",
    "            k4 = z2*dt*(1-row**2)\n",
    "            s.append(s[i-1] + r*dt + k0 + k1*v[i-1]+ k2*v[i] + math.sqrt(k3*v[i-1]+k4*v[i])*z )\n",
    "        \n",
    "        c.append(math.exp(-r*T)*max(s[N-1]-k,0))\n",
    "    \n",
    "    \n",
    "    price = (np.mean(c))\n",
    "    error = (np.std(c)/math.sqrt(M))\n",
    "    return price,error"
   ]
  },
  {
   "cell_type": "code",
   "execution_count": 138,
   "metadata": {},
   "outputs": [
    {
     "data": {
      "text/plain": [
       "(0.06712970355178878, 0.0025076812627612753)"
      ]
     },
     "execution_count": 138,
     "metadata": {},
     "output_type": "execute_result"
    }
   ],
   "source": [
    "QESchemePut(3000,260)"
   ]
  },
  {
   "cell_type": "code",
   "execution_count": null,
   "metadata": {},
   "outputs": [],
   "source": []
  }
 ],
 "metadata": {
  "kernelspec": {
   "display_name": "Python 3",
   "language": "python",
   "name": "python3"
  },
  "language_info": {
   "codemirror_mode": {
    "name": "ipython",
    "version": 3
   },
   "file_extension": ".py",
   "mimetype": "text/x-python",
   "name": "python",
   "nbconvert_exporter": "python",
   "pygments_lexer": "ipython3",
   "version": "3.6.4"
  }
 },
 "nbformat": 4,
 "nbformat_minor": 2
}
