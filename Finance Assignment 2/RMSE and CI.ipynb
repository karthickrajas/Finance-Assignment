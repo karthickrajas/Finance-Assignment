{
 "cells": [
  {
   "cell_type": "code",
   "execution_count": 110,
   "metadata": {},
   "outputs": [],
   "source": [
    "from math import sqrt,exp\n",
    "import numpy as np\n",
    "import matplotlib.pyplot as plt\n",
    "import random\n",
    "import math"
   ]
  },
  {
   "cell_type": "code",
   "execution_count": 111,
   "metadata": {},
   "outputs": [],
   "source": [
    "def IJKScheme(M,N):\n",
    "    r = 0\n",
    "    K = 100\n",
    "    T =1 \n",
    "    dt = T/N\n",
    "    row =0.36\n",
    "    kappa = 2.58\n",
    "    eta = 0.043\n",
    "    v0 = 0.114\n",
    "    s0 = 125\n",
    "    sigma = 1\n",
    "\n",
    "    c=[]\n",
    "\n",
    "    for j in range(1,M):\n",
    "        v =[]\n",
    "        v.append(v0)\n",
    "        s =[]\n",
    "        s.append(s0)\n",
    "        for i in range(1,N):\n",
    "            x=random.gauss(0,1)\n",
    "            randomTerm = row*x+sqrt(1-row**2)*x\n",
    "            vtemp = max(v[i-1],0)\n",
    "            firstTerm = kappa*(eta - vtemp)*dt\n",
    "            secondTerm = sigma*sqrt(vtemp*dt)*randomTerm\n",
    "            thirdTerm = 0.25*sigma*sigma*dt*(randomTerm**2 -1)\n",
    "            v.append(v[i-1]+firstTerm + secondTerm + thirdTerm)\n",
    "            sFirstTerm = (r - 0.25*(vtemp+v[i]))*dt\n",
    "            sSecondTerm = row*sqrt(vtemp*dt)*randomTerm\n",
    "            sThirdTerm = 0.5*(sqrt(max(v[i],0)) + sqrt(vtemp))*(x - row*randomTerm)*sqrt(dt)\n",
    "            sFourthTerm = sigma*row*0.25*dt*(randomTerm**2 - 1)\n",
    "            s.append(s[i-1] + sFirstTerm + sSecondTerm + sThirdTerm + sFourthTerm)\n",
    "        \n",
    "        c.append(math.exp(-r*T)*max(s[N-1]-K,0))\n",
    "    \n",
    "    price = (np.mean(c))\n",
    "    error = (np.std(c)/math.sqrt(M))\n",
    "    return price,error"
   ]
  },
  {
   "cell_type": "code",
   "execution_count": 112,
   "metadata": {},
   "outputs": [],
   "source": [
    "priceIJK = []\n",
    "errorIJK = []\n",
    "\n",
    "for i in range(1,31,1):\n",
    "    priceTemp,errorTemp = IJKScheme(1500,2000)\n",
    "    priceIJK.append(priceTemp)\n",
    "    errorIJK.append(errorTemp)"
   ]
  },
  {
   "cell_type": "markdown",
   "metadata": {},
   "source": [
    "### Milstein's CI"
   ]
  },
  {
   "cell_type": "code",
   "execution_count": 27,
   "metadata": {},
   "outputs": [],
   "source": [
    "def MilsteinScheme(M,N):\n",
    "    r = 0\n",
    "    K = 100\n",
    "    T =1 \n",
    "    dt = T/N\n",
    "    row =0.36\n",
    "    kappa = 2.58\n",
    "    eta = 0.043\n",
    "    v0 = 0.114\n",
    "    s0 = 125\n",
    "    sigma = 1\n",
    "\n",
    "    c=[]\n",
    "\n",
    "    for j in range(1,M):\n",
    "        v=[]\n",
    "        v.append(v0)\n",
    "        s=[]\n",
    "        s.append(s0)\n",
    "\n",
    "        for i in range(1,N):\n",
    "            x=random.gauss(0,1)\n",
    "            randomTerm = row*x+math.sqrt(1-row**2)*x\n",
    "            vtemp = max(0,v[i-1])\n",
    "            firstTerm = kappa*(eta - vtemp*0.5)*dt\n",
    "            thirdTerm = 0.25*(sigma**2)*dt*(randomTerm**2 - 1)\n",
    "            secondTerm = sigma*((dt*(vtemp))**0.5)*randomTerm\n",
    "            v.append(v[i-1]+ firstTerm + secondTerm + thirdTerm)\n",
    "            s.append(s[i-1] + math.sqrt(vtemp*dt)*x + (r-vtemp*0.5)*dt)\n",
    "        \n",
    "        c.append(math.exp(-r*T)*max(s[N-1]-K,0))\n",
    "    \n",
    "    price = np.mean(c)       \n",
    "    error = np.std(c)/math.sqrt(M)\n",
    "    return price, error"
   ]
  },
  {
   "cell_type": "code",
   "execution_count": 28,
   "metadata": {},
   "outputs": [],
   "source": [
    "priceMS = []\n",
    "errorMS = []\n",
    "\n",
    "for i in range(1,31,1):\n",
    "    priceTemp,errorTemp = MilsteinScheme(1500,2000)\n",
    "    priceMS.append(priceTemp)\n",
    "    errorMS.append(errorTemp)"
   ]
  },
  {
   "cell_type": "code",
   "execution_count": 36,
   "metadata": {},
   "outputs": [],
   "source": [
    "def EulerScheme(M,N):\n",
    "    r = 0\n",
    "    K = 100\n",
    "    T =1 \n",
    "    dt = T/N\n",
    "    row =0.36\n",
    "    kappa = 2.58\n",
    "    eta = 0.043\n",
    "    v0 = 0.114\n",
    "    s0 = 125\n",
    "    sigma = 1\n",
    "    c=[]\n",
    "\n",
    "    for j in range(1,M):\n",
    "        v =[]\n",
    "        v.append(v0)\n",
    "        s =[]\n",
    "        s.append(s0)\n",
    "        for i in range(1,N):\n",
    "            x=random.gauss(0,1)\n",
    "            firstTerm = kappa*(eta - max(0,v[i-1]))*(dt)\n",
    "            secondTerm = sigma*(max(0,v[i-1]) *dt)**0.5\n",
    "            randomTerm = row*x+math.sqrt(1-row**2)*x\n",
    "            v.append(max(0,v[i-1]) + firstTerm + secondTerm * randomTerm)\n",
    "            s.append(s[i-1] + math.sqrt(max(v[i-1],0)*dt)*s[i-1]*x + r*s[i-1]*dt)\n",
    "        \n",
    "        c.append(math.exp(-r*T)*max(s[N-1]-K,0))\n",
    "        \n",
    "        \n",
    "    price = np.mean(c)\n",
    "    error = np.std(c)/math.sqrt(M)\n",
    "    return price, error"
   ]
  },
  {
   "cell_type": "code",
   "execution_count": 37,
   "metadata": {},
   "outputs": [],
   "source": [
    "priceES = []\n",
    "errorES = []\n",
    "\n",
    "for i in range(1,31,1):\n",
    "    priceTemp,errorTemp = EulerScheme(1500,2000)\n",
    "    priceES.append(priceTemp)\n",
    "    errorES.append(errorTemp)"
   ]
  },
  {
   "cell_type": "code",
   "execution_count": 106,
   "metadata": {},
   "outputs": [],
   "source": [
    "def RMSE(price, priceAct, n):\n",
    "    pValue = scipy.stats.mstats.normaltest(price)[1]\n",
    "    low,high = np.mean(price) + 2.58*(np.std(price)/sqrt(n)),np.mean(price) - 2.58*(np.std(price)/sqrt(n))\n",
    "    interval = 2*2.58*(np.std(price)/sqrt(n))\n",
    "    diffVar = []\n",
    "    diff = []\n",
    "    for i in range(0,30):\n",
    "        diff.append(price[i]-priceAct)\n",
    "        diffVar.append((price[i]-np.mean(price))**2)\n",
    "    \n",
    "    var = np.mean(diffVar)\n",
    "    bias = np.mean(diff)\n",
    "    rmse  = sqrt(bias**2 + var)\n",
    "    print(\"The P-value of the Normality test is \", pValue)\n",
    "    print(\"The width of the interval is\", interval)\n",
    "    print(\"The values range from \", low , \"to \", high)\n",
    "    print(\"The RMSE is \",rmse)\n",
    "    return pValue,interval,low,high,rmse"
   ]
  },
  {
   "cell_type": "code",
   "execution_count": 113,
   "metadata": {},
   "outputs": [
    {
     "name": "stdout",
     "output_type": "stream",
     "text": [
      "The P-value of the Normality test is  0.542727313289\n",
      "The width of the interval is 0.00773220213239\n",
      "The values range from  25.1688591497 to  25.1611269475\n",
      "The RMSE is  0.04280126196051082\n"
     ]
    },
    {
     "data": {
      "text/plain": [
       "(0.54272731328905355,\n",
       " 0.0077322021323901757,\n",
       " 25.168859149662673,\n",
       " 25.161126947530285,\n",
       " 0.04280126196051082)"
      ]
     },
     "execution_count": 113,
     "metadata": {},
     "output_type": "execute_result"
    }
   ],
   "source": [
    "RMSE(priceIJK,25.207,30)"
   ]
  },
  {
   "cell_type": "code",
   "execution_count": 114,
   "metadata": {},
   "outputs": [
    {
     "name": "stdout",
     "output_type": "stream",
     "text": [
      "The P-value of the Normality test is  0.733342158151\n",
      "The width of the interval is 0.00812447050184\n",
      "The values range from  24.9235192554 to  24.9153947849\n",
      "The RMSE is  0.2876722747819712\n"
     ]
    },
    {
     "data": {
      "text/plain": [
       "(0.73334215815076775,\n",
       " 0.0081244705018390685,\n",
       " 24.9235192554268,\n",
       " 24.91539478492496,\n",
       " 0.2876722747819712)"
      ]
     },
     "execution_count": 114,
     "metadata": {},
     "output_type": "execute_result"
    }
   ],
   "source": [
    "RMSE(priceMS,25.207,30)"
   ]
  },
  {
   "cell_type": "code",
   "execution_count": 116,
   "metadata": {},
   "outputs": [
    {
     "name": "stdout",
     "output_type": "stream",
     "text": [
      "The P-value of the Normality test is  0.0274078799401\n",
      "The width of the interval is 1.2972274378\n",
      "The values range from  25.7057954146 to  24.4085679768\n",
      "The RMSE is  1.4838048817827008\n"
     ]
    },
    {
     "data": {
      "text/plain": [
       "(0.027407879940106027,\n",
       " 1.2972274378026787,\n",
       " 25.705795414562388,\n",
       " 24.408567976759713,\n",
       " 1.4838048817827008)"
      ]
     },
     "execution_count": 116,
     "metadata": {},
     "output_type": "execute_result"
    }
   ],
   "source": [
    "RMSE(priceES,25.61,30)"
   ]
  }
 ],
 "metadata": {
  "kernelspec": {
   "display_name": "Python 3",
   "language": "python",
   "name": "python3"
  },
  "language_info": {
   "codemirror_mode": {
    "name": "ipython",
    "version": 3
   },
   "file_extension": ".py",
   "mimetype": "text/x-python",
   "name": "python",
   "nbconvert_exporter": "python",
   "pygments_lexer": "ipython3",
   "version": "3.6.4"
  }
 },
 "nbformat": 4,
 "nbformat_minor": 2
}
